{
 "cells": [
  {
   "cell_type": "markdown",
   "metadata": {},
   "source": [
    "# Sparkify Project Workspace\n",
    "This workspace contains a tiny subset (128MB) of the full dataset available (12GB). Feel free to use this workspace to build your project, or to explore a smaller subset with Spark before deploying your cluster on the cloud. Instructions for setting up your Spark cluster is included in the last lesson of the Extracurricular Spark Course content.\n",
    "\n",
    "You can follow the steps below to guide your data analysis and model building portion of this project."
   ]
  },
  {
   "cell_type": "code",
   "execution_count": 2,
   "metadata": {},
   "outputs": [],
   "source": [
    "# Import libraries\n",
    "import re\n",
    "import datetime\n",
    "import seaborn as sns\n",
    "import matplotlib.pyplot as plt\n",
    "import pandas as pd\n",
    "\n",
    "from pyspark.sql import SparkSession, Window\n",
    "from pyspark.sql.functions import avg, col, concat, desc, explode, lit, split, udf, isnull, when, regexp_replace, first\n",
    "from pyspark.sql.functions import max as fmax\n",
    "from pyspark.sql.types import IntegerType, StringType\n",
    "\n",
    "from pyspark.ml import Pipeline\n",
    "from pyspark.ml.classification import LogisticRegression\n",
    "from pyspark.ml.evaluation import MulticlassClassificationEvaluator\n",
    "from pyspark.ml.feature import CountVectorizer, IDF, Normalizer, PCA, RegexTokenizer, StandardScaler, StringIndexer, VectorAssembler\n",
    "from pyspark.ml.tuning import CrossValidator, ParamGridBuilder\n",
    "from pyspark.ml.classification import LogisticRegression, DecisionTreeClassifier,RandomForestClassifier"
   ]
  },
  {
   "cell_type": "code",
   "execution_count": 3,
   "metadata": {},
   "outputs": [],
   "source": [
    "# Create a local Spark session \n",
    "spark = SparkSession.builder \\\n",
    "    .master(\"local\") \\\n",
    "    .appName(\"Sparkify\") \\\n",
    "    .getOrCreate()"
   ]
  },
  {
   "cell_type": "markdown",
   "metadata": {},
   "source": [
    "# Load and Clean Dataset\n",
    "In this workspace, the mini-dataset file is `mini_sparkify_event_data.json`. Load and clean the dataset, checking for invalid or missing data - for example, records without userids or sessionids. "
   ]
  },
  {
   "cell_type": "code",
   "execution_count": 4,
   "metadata": {},
   "outputs": [
    {
     "data": {
      "text/plain": [
       "DataFrame[artist: string, auth: string, firstName: string, gender: string, itemInSession: bigint, lastName: string, length: double, level: string, location: string, method: string, page: string, registration: bigint, sessionId: bigint, song: string, status: bigint, ts: bigint, userAgent: string, userId: string]"
      ]
     },
     "execution_count": 4,
     "metadata": {},
     "output_type": "execute_result"
    }
   ],
   "source": [
    "# Load data\n",
    "sparkify_event_data = 'mini_sparkify_event_data.json'\n",
    "df = spark.read.json(sparkify_event_data)\n",
    "\n",
    "# Display data keys and types\n",
    "df.persist()"
   ]
  },
  {
   "cell_type": "code",
   "execution_count": 4,
   "metadata": {},
   "outputs": [
    {
     "name": "stdout",
     "output_type": "stream",
     "text": [
      "+--------------------+---------+---------+------+-------------+--------+---------+-----+--------------------+------+---------------+-------------+---------+--------------------+------+-------------+--------------------+------+\n",
      "|              artist|     auth|firstName|gender|itemInSession|lastName|   length|level|            location|method|           page| registration|sessionId|                song|status|           ts|           userAgent|userId|\n",
      "+--------------------+---------+---------+------+-------------+--------+---------+-----+--------------------+------+---------------+-------------+---------+--------------------+------+-------------+--------------------+------+\n",
      "|      Martha Tilston|Logged In|    Colin|     M|           50| Freeman|277.89016| paid|     Bakersfield, CA|   PUT|       NextSong|1538173362000|       29|           Rockpools|   200|1538352117000|Mozilla/5.0 (Wind...|    30|\n",
      "|    Five Iron Frenzy|Logged In|    Micah|     M|           79|    Long|236.09424| free|Boston-Cambridge-...|   PUT|       NextSong|1538331630000|        8|              Canada|   200|1538352180000|\"Mozilla/5.0 (Win...|     9|\n",
      "|        Adam Lambert|Logged In|    Colin|     M|           51| Freeman| 282.8273| paid|     Bakersfield, CA|   PUT|       NextSong|1538173362000|       29|   Time For Miracles|   200|1538352394000|Mozilla/5.0 (Wind...|    30|\n",
      "|              Enigma|Logged In|    Micah|     M|           80|    Long|262.71302| free|Boston-Cambridge-...|   PUT|       NextSong|1538331630000|        8|Knocking On Forbi...|   200|1538352416000|\"Mozilla/5.0 (Win...|     9|\n",
      "|           Daft Punk|Logged In|    Colin|     M|           52| Freeman|223.60771| paid|     Bakersfield, CA|   PUT|       NextSong|1538173362000|       29|Harder Better Fas...|   200|1538352676000|Mozilla/5.0 (Wind...|    30|\n",
      "|The All-American ...|Logged In|    Micah|     M|           81|    Long|208.29995| free|Boston-Cambridge-...|   PUT|       NextSong|1538331630000|        8|      Don't Leave Me|   200|1538352678000|\"Mozilla/5.0 (Win...|     9|\n",
      "|The Velvet Underg...|Logged In|    Micah|     M|           82|    Long|260.46649| free|Boston-Cambridge-...|   PUT|       NextSong|1538331630000|        8|         Run Run Run|   200|1538352886000|\"Mozilla/5.0 (Win...|     9|\n",
      "|        Starflyer 59|Logged In|    Colin|     M|           53| Freeman|185.44281| paid|     Bakersfield, CA|   PUT|       NextSong|1538173362000|       29|Passengers (Old A...|   200|1538352899000|Mozilla/5.0 (Wind...|    30|\n",
      "|                null|Logged In|    Colin|     M|           54| Freeman|     null| paid|     Bakersfield, CA|   PUT|Add to Playlist|1538173362000|       29|                null|   200|1538352905000|Mozilla/5.0 (Wind...|    30|\n",
      "|            Frumpies|Logged In|    Colin|     M|           55| Freeman|134.47791| paid|     Bakersfield, CA|   PUT|       NextSong|1538173362000|       29|          Fuck Kitty|   200|1538353084000|Mozilla/5.0 (Wind...|    30|\n",
      "+--------------------+---------+---------+------+-------------+--------+---------+-----+--------------------+------+---------------+-------------+---------+--------------------+------+-------------+--------------------+------+\n",
      "only showing top 10 rows\n",
      "\n"
     ]
    }
   ],
   "source": [
    "# Print the first row of the data\n",
    "df.show(10)"
   ]
  },
  {
   "cell_type": "code",
   "execution_count": 5,
   "metadata": {},
   "outputs": [
    {
     "name": "stdout",
     "output_type": "stream",
     "text": [
      "root\n",
      " |-- artist: string (nullable = true)\n",
      " |-- auth: string (nullable = true)\n",
      " |-- firstName: string (nullable = true)\n",
      " |-- gender: string (nullable = true)\n",
      " |-- itemInSession: long (nullable = true)\n",
      " |-- lastName: string (nullable = true)\n",
      " |-- length: double (nullable = true)\n",
      " |-- level: string (nullable = true)\n",
      " |-- location: string (nullable = true)\n",
      " |-- method: string (nullable = true)\n",
      " |-- page: string (nullable = true)\n",
      " |-- registration: long (nullable = true)\n",
      " |-- sessionId: long (nullable = true)\n",
      " |-- song: string (nullable = true)\n",
      " |-- status: long (nullable = true)\n",
      " |-- ts: long (nullable = true)\n",
      " |-- userAgent: string (nullable = true)\n",
      " |-- userId: string (nullable = true)\n",
      "\n"
     ]
    }
   ],
   "source": [
    "# Print schema in more of a readable manner\n",
    "df.printSchema()"
   ]
  },
  {
   "cell_type": "code",
   "execution_count": 6,
   "metadata": {},
   "outputs": [
    {
     "name": "stdout",
     "output_type": "stream",
     "text": [
      "+-------+-----------------+-----------------+\n",
      "|summary|           userId|        sessionId|\n",
      "+-------+-----------------+-----------------+\n",
      "|  count|           286500|           286500|\n",
      "|   mean|59682.02278593872|1041.526554973822|\n",
      "| stddev|109091.9499991047|726.7762634630741|\n",
      "|    min|                 |                1|\n",
      "|    max|               99|             2474|\n",
      "+-------+-----------------+-----------------+\n",
      "\n",
      "Total row count: 286500\n"
     ]
    }
   ],
   "source": [
    "# Print summary of userId and sessionId columns\n",
    "df.describe(['userId', 'sessionId']).show()\n",
    "print(\"Total row count:\", df.count())"
   ]
  },
  {
   "cell_type": "code",
   "execution_count": 7,
   "metadata": {},
   "outputs": [
    {
     "name": "stdout",
     "output_type": "stream",
     "text": [
      "Number of nulls in userId:  0\n",
      "Number of nulls in sessionId:  0\n"
     ]
    }
   ],
   "source": [
    "# Print number of nulls in userId and sessionId\n",
    "print(\"Number of nulls in userId: \", df.filter(isnull(df['userId'])).count())\n",
    "print(\"Number of nulls in sessionId: \", df.filter(isnull(df['sessionId'])).count())"
   ]
  },
  {
   "cell_type": "code",
   "execution_count": 8,
   "metadata": {},
   "outputs": [
    {
     "name": "stdout",
     "output_type": "stream",
     "text": [
      "Number of blanks in userId:  8346\n",
      "Number of blanks in sessionId:  0\n"
     ]
    }
   ],
   "source": [
    "# Print number of blanks in userId and sessionId\n",
    "print(\"Number of blanks in userId: \", df.filter(df['userId'] == '').count())\n",
    "print(\"Number of blanks in sessionId: \", df.filter(df['sessionId'] == '').count())"
   ]
  },
  {
   "cell_type": "code",
   "execution_count": 4,
   "metadata": {},
   "outputs": [
    {
     "data": {
      "text/plain": [
       "[Row(artist='Martha Tilston', auth='Logged In', firstName='Colin', gender='M', itemInSession=50, lastName='Freeman', length=277.89016, level='paid', location='Bakersfield, CA', method='PUT', page='NextSong', registration=1538173362000, sessionId=29, song='Rockpools', status=200, ts=1538352117000, userAgent='Mozilla/5.0 (Windows NT 6.1; WOW64; rv:31.0) Gecko/20100101 Firefox/31.0', userId='30', time='2018-10-01 00:01:57', state=' CA')]"
      ]
     },
     "execution_count": 4,
     "metadata": {},
     "output_type": "execute_result"
    }
   ],
   "source": [
    "def clean_data(df):\n",
    "    \"\"\"\n",
    "    Function to clean data\n",
    "    :param df: Spark dataframe\n",
    "    return df: Cleaned spark dataframe\n",
    "    \"\"\"\n",
    "    \n",
    "    # Remove records with blanks in userId\n",
    "    df = df.filter(df['userId'] != '')\n",
    "    \n",
    "    # Create user defined function to convert format of timestamp (ts)\n",
    "    convert_time = udf(lambda x: datetime.datetime.fromtimestamp(x / 1000.0).strftime(\"%Y-%m-%d %H:%M:%S\"))\n",
    "    \n",
    "    # Convert timestamp (ts) to different format\n",
    "    df = df.withColumn(\"time\", convert_time(df.ts))\n",
    "    \n",
    "    # Separate city and state\n",
    "    df = df.withColumn('state', split(col('location'),',').getItem(1))\n",
    "    \n",
    "    return df\n",
    "\n",
    "# Run function and print first row of cleaned data\n",
    "df = clean_data(df)\n",
    "df.take(1)"
   ]
  },
  {
   "cell_type": "markdown",
   "metadata": {},
   "source": [
    "# Exploratory Data Analysis\n",
    "When you're working with the full dataset, perform EDA by loading a small subset of the data and doing basic manipulations within Spark. In this workspace, you are already provided a small subset of data you can explore.\n",
    "\n",
    "### Define Churn\n",
    "\n",
    "Once you've done some preliminary analysis, create a column `Churn` to use as the label for your model. I suggest using the `Cancellation Confirmation` events to define your churn, which happen for both paid and free users. As a bonus task, you can also look into the `Downgrade` events.\n",
    "\n",
    "### Explore Data\n",
    "Once you've defined churn, perform some exploratory data analysis to observe the behavior for users who stayed vs users who churned. You can start by exploring aggregates on these two groups of users, observing how much of a specific action they experienced per a certain time unit or number of songs played."
   ]
  },
  {
   "cell_type": "code",
   "execution_count": 5,
   "metadata": {},
   "outputs": [
    {
     "data": {
      "text/plain": [
       "[Row(artist='Sleeping With Sirens', auth='Logged In', firstName='Darianna', gender='F', itemInSession=0, lastName='Carpenter', length=202.97098, level='free', location='Bridgeport-Stamford-Norwalk, CT', method='PUT', page='NextSong', registration=1538016340000, sessionId=31, song='Captain Tyin Knots VS Mr Walkway (No Way)', status=200, ts=1539003534000, userAgent='\"Mozilla/5.0 (iPhone; CPU iPhone OS 7_1_2 like Mac OS X) AppleWebKit/537.51.2 (KHTML, like Gecko) Version/7.0 Mobile/11D257 Safari/9537.53\"', userId='100010', Churned=0, Churn=0)]"
      ]
     },
     "execution_count": 5,
     "metadata": {},
     "output_type": "execute_result"
    }
   ],
   "source": [
    "def define_label(df):\n",
    "    \"\"\"\n",
    "    Function to add the label column (Churn) in the data\n",
    "    :param df: Spark dataframe\n",
    "    return df: Spark dataframe with a label column\n",
    "    \"\"\"\n",
    "    # Create user defined function to indicate whether or not customer churned\n",
    "    churn_indicator = udf(lambda x: 1 if x == 'Cancellation Confirmation' else 0, IntegerType())\n",
    "    \n",
    "    # Create column indicating whether or not customer churned\n",
    "    df = df.withColumn('Churned', churn_indicator('page'))\n",
    "    \n",
    "    # Create label for Churn\n",
    "    userwindow = Window.partitionBy('userId').rangeBetween(Window.unboundedPreceding, Window.unboundedFollowing)\n",
    "    df = df.withColumn('Churn',fmax('Churned').over(userwindow))\n",
    "    \n",
    "    return df\n",
    "\n",
    "# Run function and print first row of cleaned data with label column\n",
    "df = define_label(df)\n",
    "df.take(1)"
   ]
  },
  {
   "cell_type": "code",
   "execution_count": 11,
   "metadata": {},
   "outputs": [],
   "source": [
    "# Create temporary view to run SQL commands\n",
    "df.createOrReplaceTempView(\"Sparkify_Data\")"
   ]
  },
  {
   "cell_type": "code",
   "execution_count": 12,
   "metadata": {},
   "outputs": [
    {
     "name": "stdout",
     "output_type": "stream",
     "text": [
      "+--------------------+---------+---------+------+-------------+---------+---------+-----+--------------------+------+---------+-------------+---------+--------------------+------+-------------+--------------------+------+-------------------+-----+-------+-----+\n",
      "|              artist|     auth|firstName|gender|itemInSession| lastName|   length|level|            location|method|     page| registration|sessionId|                song|status|           ts|           userAgent|userId|               time|state|Churned|Churn|\n",
      "+--------------------+---------+---------+------+-------------+---------+---------+-----+--------------------+------+---------+-------------+---------+--------------------+------+-------------+--------------------+------+-------------------+-----+-------+-----+\n",
      "|Sleeping With Sirens|Logged In| Darianna|     F|            0|Carpenter|202.97098| free|Bridgeport-Stamfo...|   PUT| NextSong|1538016340000|       31|Captain Tyin Knot...|   200|1539003534000|\"Mozilla/5.0 (iPh...|100010|2018-10-08 12:58:54|   CT|      0|    0|\n",
      "|Francesca Battist...|Logged In| Darianna|     F|            1|Carpenter|196.54485| free|Bridgeport-Stamfo...|   PUT| NextSong|1538016340000|       31|Beautiful_ Beauti...|   200|1539003736000|\"Mozilla/5.0 (iPh...|100010|2018-10-08 13:02:16|   CT|      0|    0|\n",
      "|              Brutha|Logged In| Darianna|     F|            2|Carpenter|263.13098| free|Bridgeport-Stamfo...|   PUT| NextSong|1538016340000|       31|          She's Gone|   200|1539003932000|\"Mozilla/5.0 (iPh...|100010|2018-10-08 13:05:32|   CT|      0|    0|\n",
      "|                null|Logged In| Darianna|     F|            3|Carpenter|     null| free|Bridgeport-Stamfo...|   PUT|Thumbs Up|1538016340000|       31|                null|   307|1539003933000|\"Mozilla/5.0 (iPh...|100010|2018-10-08 13:05:33|   CT|      0|    0|\n",
      "|         Josh Ritter|Logged In| Darianna|     F|            4|Carpenter|316.23791| free|Bridgeport-Stamfo...|   PUT| NextSong|1538016340000|       31|      Folk Bloodbath|   200|1539004195000|\"Mozilla/5.0 (iPh...|100010|2018-10-08 13:09:55|   CT|      0|    0|\n",
      "+--------------------+---------+---------+------+-------------+---------+---------+-----+--------------------+------+---------+-------------+---------+--------------------+------+-------------+--------------------+------+-------------------+-----+-------+-----+\n",
      "\n"
     ]
    }
   ],
   "source": [
    "# Test to see if everything is ready \n",
    "spark.sql('''\n",
    "        SELECT *\n",
    "        FROM Sparkify_Data\n",
    "        LIMIT 5\n",
    "''').show()"
   ]
  },
  {
   "cell_type": "code",
   "execution_count": 13,
   "metadata": {},
   "outputs": [
    {
     "name": "stdout",
     "output_type": "stream",
     "text": [
      "+---------+----------+\n",
      "|     auth|user_count|\n",
      "+---------+----------+\n",
      "|Cancelled|        52|\n",
      "|Logged In|       225|\n",
      "+---------+----------+\n",
      "\n"
     ]
    }
   ],
   "source": [
    "# Look at user counts for the unique auth values\n",
    "user_count = spark.sql('''\n",
    "        SELECT auth, COUNT(DISTINCT userId) AS user_count\n",
    "        FROM Sparkify_Data\n",
    "        GROUP BY auth\n",
    "        ORDER BY user_count\n",
    "''')\n",
    "user_count.show()"
   ]
  },
  {
   "cell_type": "code",
   "execution_count": 14,
   "metadata": {},
   "outputs": [
    {
     "name": "stdout",
     "output_type": "stream",
     "text": [
      "+------+----------+\n",
      "|gender|user_count|\n",
      "+------+----------+\n",
      "|     F|       104|\n",
      "|     M|       121|\n",
      "+------+----------+\n",
      "\n"
     ]
    }
   ],
   "source": [
    "# Look at user counts by gender\n",
    "gender_count = spark.sql('''\n",
    "        SELECT gender, COUNT(DISTINCT userId) AS user_count\n",
    "        FROM Sparkify_Data\n",
    "        GROUP BY gender\n",
    "        ORDER BY user_count\n",
    "''')\n",
    "gender_count.show()"
   ]
  },
  {
   "cell_type": "code",
   "execution_count": 15,
   "metadata": {},
   "outputs": [
    {
     "data": {
      "image/png": "[encoded data removed]",
      "text/plain": [
       "<matplotlib.figure.Figure at 0x7fd6b7df3b38>"
      ]
     },
     "metadata": {
      "needs_background": "light"
     },
     "output_type": "display_data"
    }
   ],
   "source": [
    "# Create bar chart of gender count\n",
    "sns.barplot(x='gender', y='user_count', data=gender_count.toPandas());"
   ]
  },
  {
   "cell_type": "markdown",
   "metadata": {},
   "source": [
    "The number of males vs females seems to be fairly balanced (not confirmed through statistical significance) with the number of males being slightly larger than the number of females in the dataset."
   ]
  },
  {
   "cell_type": "code",
   "execution_count": 16,
   "metadata": {},
   "outputs": [
    {
     "name": "stdout",
     "output_type": "stream",
     "text": [
      "+----------+\n",
      "|item_count|\n",
      "+----------+\n",
      "|      1311|\n",
      "+----------+\n",
      "\n"
     ]
    }
   ],
   "source": [
    "# Look at unique itemInSession count\n",
    "item_count = spark.sql('''\n",
    "        SELECT COUNT(DISTINCT(itemInSession)) AS item_count\n",
    "        FROM Sparkify_Data\n",
    "''')\n",
    "item_count.show()"
   ]
  },
  {
   "cell_type": "code",
   "execution_count": 17,
   "metadata": {},
   "outputs": [
    {
     "data": {
      "image/png": "[encoded data removed]",
      "text/plain": [
       "<matplotlib.figure.Figure at 0x7fd6ec410c18>"
      ]
     },
     "metadata": {
      "needs_background": "light"
     },
     "output_type": "display_data"
    }
   ],
   "source": [
    "# Create distibution plot of length\n",
    "sns.distplot(spark.sql('''\n",
    "        SELECT length\n",
    "        FROM Sparkify_Data\n",
    "''').toPandas().dropna());"
   ]
  },
  {
   "cell_type": "code",
   "execution_count": 18,
   "metadata": {},
   "outputs": [
    {
     "name": "stdout",
     "output_type": "stream",
     "text": [
      "+-----+----------+\n",
      "|level|user_count|\n",
      "+-----+----------+\n",
      "| paid|       165|\n",
      "| free|       195|\n",
      "+-----+----------+\n",
      "\n"
     ]
    }
   ],
   "source": [
    "# Look at unique level user counts\n",
    "level_count = spark.sql('''\n",
    "        SELECT level, COUNT(DISTINCT userId) AS user_count\n",
    "        FROM Sparkify_Data\n",
    "        GROUP BY level\n",
    "        ORDER BY user_count\n",
    "''')\n",
    "level_count.show()"
   ]
  },
  {
   "cell_type": "code",
   "execution_count": 19,
   "metadata": {},
   "outputs": [
    {
     "name": "stdout",
     "output_type": "stream",
     "text": [
      "+---------+----------+\n",
      "|    state|user_count|\n",
      "+---------+----------+\n",
      "|       CA|        33|\n",
      "|       TX|        16|\n",
      "| NY-NJ-PA|        15|\n",
      "|       FL|        14|\n",
      "|       AZ|         7|\n",
      "|       CT|         7|\n",
      "| IL-IN-WI|         6|\n",
      "|    MO-IL|         6|\n",
      "|    NC-SC|         6|\n",
      "|       NC|         6|\n",
      "+---------+----------+\n",
      "\n"
     ]
    }
   ],
   "source": [
    "# Look at unique user counts by top 10 states\n",
    "state_count = spark.sql('''\n",
    "        SELECT state, COUNT(DISTINCT userId) AS user_count\n",
    "        FROM Sparkify_Data\n",
    "        GROUP BY state\n",
    "        ORDER BY user_count DESC\n",
    "        LIMIT 10\n",
    "''')\n",
    "state_count.show()"
   ]
  },
  {
   "cell_type": "code",
   "execution_count": 20,
   "metadata": {},
   "outputs": [
    {
     "data": {
      "image/png": "[encoded data removed]",
      "text/plain": [
       "<matplotlib.figure.Figure at 0x7fd6b52c5400>"
      ]
     },
     "metadata": {
      "needs_background": "light"
     },
     "output_type": "display_data"
    }
   ],
   "source": [
    "# Create bar chart of top 10 state count\n",
    "sns.barplot(x='state', y='user_count', data=state_count.toPandas());"
   ]
  },
  {
   "cell_type": "markdown",
   "metadata": {},
   "source": [
    "California is the most popular state amongst the users in our dataset, followed by Texas and New York-New Jersey-Pennsylvania."
   ]
  },
  {
   "cell_type": "code",
   "execution_count": 21,
   "metadata": {},
   "outputs": [
    {
     "name": "stdout",
     "output_type": "stream",
     "text": [
      "+--------------------+----------+\n",
      "|                page|user_count|\n",
      "+--------------------+----------+\n",
      "|Cancellation Conf...|        52|\n",
      "|              Cancel|        52|\n",
      "|    Submit Downgrade|        63|\n",
      "|      Submit Upgrade|       159|\n",
      "|               Error|       252|\n",
      "|       Save Settings|       310|\n",
      "|               About|       495|\n",
      "|             Upgrade|       499|\n",
      "|                Help|      1454|\n",
      "|            Settings|      1514|\n",
      "|           Downgrade|      2055|\n",
      "|         Thumbs Down|      2546|\n",
      "|              Logout|      3226|\n",
      "|         Roll Advert|      3933|\n",
      "|          Add Friend|      4277|\n",
      "|     Add to Playlist|      6526|\n",
      "|                Home|     10082|\n",
      "|           Thumbs Up|     12551|\n",
      "|            NextSong|    228108|\n",
      "+--------------------+----------+\n",
      "\n"
     ]
    }
   ],
   "source": [
    "# Look at unique user counts by page\n",
    "page_count = spark.sql('''\n",
    "        SELECT page, COUNT(userId) AS user_count\n",
    "        FROM Sparkify_Data\n",
    "        GROUP BY page\n",
    "        ORDER BY user_count\n",
    "''')\n",
    "page_count.show()"
   ]
  },
  {
   "cell_type": "code",
   "execution_count": 22,
   "metadata": {},
   "outputs": [
    {
     "name": "stdout",
     "output_type": "stream",
     "text": [
      "+--------------------+----------+\n",
      "|           userAgent|user_count|\n",
      "+--------------------+----------+\n",
      "|\"Mozilla/5.0 (Win...|        24|\n",
      "|Mozilla/5.0 (Wind...|        18|\n",
      "|\"Mozilla/5.0 (Mac...|        16|\n",
      "|\"Mozilla/5.0 (Mac...|        12|\n",
      "|\"Mozilla/5.0 (Mac...|        12|\n",
      "|\"Mozilla/5.0 (Mac...|        10|\n",
      "|\"Mozilla/5.0 (Win...|        10|\n",
      "|Mozilla/5.0 (Maci...|         9|\n",
      "|\"Mozilla/5.0 (iPh...|         8|\n",
      "|\"Mozilla/5.0 (Mac...|         7|\n",
      "|\"Mozilla/5.0 (Win...|         7|\n",
      "|Mozilla/5.0 (Wind...|         7|\n",
      "|\"Mozilla/5.0 (Win...|         5|\n",
      "|\"Mozilla/5.0 (iPh...|         4|\n",
      "|\"Mozilla/5.0 (X11...|         4|\n",
      "|Mozilla/5.0 (Wind...|         4|\n",
      "|Mozilla/5.0 (X11;...|         4|\n",
      "|\"Mozilla/5.0 (Win...|         4|\n",
      "|\"Mozilla/5.0 (Win...|         4|\n",
      "|\"Mozilla/5.0 (Win...|         4|\n",
      "+--------------------+----------+\n",
      "only showing top 20 rows\n",
      "\n"
     ]
    }
   ],
   "source": [
    "# Look at unique user counts by userAgent from highest to lowest\n",
    "userAgent_count = spark.sql('''\n",
    "        SELECT userAgent, COUNT(DISTINCT userId) AS user_count\n",
    "        FROM Sparkify_Data\n",
    "        GROUP BY userAgent\n",
    "        ORDER BY user_count DESC\n",
    "''')\n",
    "userAgent_count.show()"
   ]
  },
  {
   "cell_type": "code",
   "execution_count": 23,
   "metadata": {},
   "outputs": [],
   "source": [
    "def define_browser(x):\n",
    "    \"\"\"\n",
    "    Define function to get browser\n",
    "    :param x: string containing substring of browser\n",
    "    return string: string representing browser\n",
    "    \"\"\"\n",
    "    if 'Firefox' in x:\n",
    "        return 'Firefox'\n",
    "    elif 'Safari' in x:\n",
    "        if 'Chrome' in x:\n",
    "            return 'Chrome'\n",
    "        else:\n",
    "            return 'Safari'\n",
    "    elif 'Trident' in x:\n",
    "        return 'IE'\n",
    "    else:\n",
    "        return np.NaN"
   ]
  },
  {
   "cell_type": "code",
   "execution_count": 24,
   "metadata": {},
   "outputs": [
    {
     "data": {
      "image/png": "[encoded data removed]",
      "text/plain": [
       "<matplotlib.figure.Figure at 0x7fd6b5278d30>"
      ]
     },
     "metadata": {
      "needs_background": "light"
     },
     "output_type": "display_data"
    }
   ],
   "source": [
    "# Create column for browser and plot\n",
    "userAgent_count = userAgent_count.toPandas()\n",
    "userAgent_count['browser'] = userAgent_count['userAgent'].apply(define_browser)\n",
    "userAgent_count.groupby('browser')['user_count'].sum().sort_values().plot(kind='bar');"
   ]
  },
  {
   "cell_type": "markdown",
   "metadata": {},
   "source": [
    "The most common browser is Chrome, followed by Firefox, Safari and IE."
   ]
  },
  {
   "cell_type": "code",
   "execution_count": 25,
   "metadata": {},
   "outputs": [
    {
     "name": "stdout",
     "output_type": "stream",
     "text": [
      "+-------------------+------+\n",
      "|               time|userId|\n",
      "+-------------------+------+\n",
      "|2018-10-01 00:01:57|    30|\n",
      "|2018-10-01 00:03:00|     9|\n",
      "|2018-10-01 00:06:34|    30|\n",
      "|2018-10-01 00:06:56|     9|\n",
      "|2018-10-01 00:11:16|    30|\n",
      "|2018-10-01 00:11:18|     9|\n",
      "|2018-10-01 00:14:46|     9|\n",
      "|2018-10-01 00:14:59|    30|\n",
      "|2018-10-01 00:15:05|    30|\n",
      "|2018-10-01 00:18:04|    30|\n",
      "|2018-10-01 00:19:06|     9|\n",
      "|2018-10-01 00:19:10|     9|\n",
      "|2018-10-01 00:20:18|    30|\n",
      "|2018-10-01 00:22:55|     9|\n",
      "|2018-10-01 00:22:56|     9|\n",
      "|2018-10-01 00:24:01|    30|\n",
      "|2018-10-01 00:26:16|     9|\n",
      "|2018-10-01 00:27:48|    74|\n",
      "|2018-10-01 00:28:07|    30|\n",
      "|2018-10-01 00:29:04|     9|\n",
      "+-------------------+------+\n",
      "only showing top 20 rows\n",
      "\n"
     ]
    }
   ],
   "source": [
    "# Extract time component\n",
    "time_data = spark.sql('''\n",
    "        SELECT time, userId\n",
    "        FROM Sparkify_Data\n",
    "''')\n",
    "time_data.show()"
   ]
  },
  {
   "cell_type": "code",
   "execution_count": 26,
   "metadata": {},
   "outputs": [
    {
     "data": {
      "image/png": "[encoded data removed]",
      "text/plain": [
       "<matplotlib.figure.Figure at 0x7fd6ad5aed30>"
      ]
     },
     "metadata": {
      "needs_background": "light"
     },
     "output_type": "display_data"
    }
   ],
   "source": [
    "# Extract day of week, day and hour from time data\n",
    "time_data = time_data.toPandas()\n",
    "time_data['time'] = pd.to_datetime(time_data['time'])\n",
    "conv_dict = {0:'Monday',1:'Tuesday',2:'Wednesday',3:'Thursday',4:'Friday',5:'Saturday',6:'Sunday'}\n",
    "time_data['day_of_week'] = time_data['time'].dt.weekday.map(conv_dict)\n",
    "time_data['day'] = time_data['time'].dt.day\n",
    "time_data['hour'] = time_data['time'].dt.hour\n",
    "\n",
    "# Plot number of unique users by day of week\n",
    "time_data.groupby('day_of_week')['userId'].count().loc[list(conv_dict.values())].plot(kind='bar');"
   ]
  },
  {
   "cell_type": "markdown",
   "metadata": {},
   "source": [
    "Based on the plot above, it can be seen that Sparkify is more popular in the weekdays than on the weekends."
   ]
  },
  {
   "cell_type": "code",
   "execution_count": 27,
   "metadata": {},
   "outputs": [
    {
     "data": {
      "image/png": "[encoded data removed]",
      "text/plain": [
       "<matplotlib.figure.Figure at 0x7fd6ac180f98>"
      ]
     },
     "metadata": {
      "needs_background": "light"
     },
     "output_type": "display_data"
    }
   ],
   "source": [
    "# Plot number of unique users by day of month\n",
    "time_data.groupby('day')['userId'].count().plot(kind='bar');"
   ]
  },
  {
   "cell_type": "code",
   "execution_count": 28,
   "metadata": {},
   "outputs": [
    {
     "data": {
      "image/png": "[encoded data removed]",
      "text/plain": [
       "<matplotlib.figure.Figure at 0x7fd6b51e1080>"
      ]
     },
     "metadata": {
      "needs_background": "light"
     },
     "output_type": "display_data"
    }
   ],
   "source": [
    "# Plot number of unique users by hour of day\n",
    "time_data.groupby('hour')['userId'].count().plot(kind='bar');"
   ]
  },
  {
   "cell_type": "markdown",
   "metadata": {},
   "source": [
    "Based on the above plot, it appears that more users use Sparkify in the late-afternoon to evening hours as opposed to the morning hours."
   ]
  },
  {
   "cell_type": "code",
   "execution_count": 29,
   "metadata": {},
   "outputs": [
    {
     "data": {
      "text/plain": [
       "[Row(Churn=1, count=52), Row(Churn=0, count=173)]"
      ]
     },
     "execution_count": 29,
     "metadata": {},
     "output_type": "execute_result"
    }
   ],
   "source": [
    "# Get number of churned vs unchurned users in dataset\n",
    "df.dropDuplicates(['userId']).select('Churn').groupby('Churn').count().collect()"
   ]
  },
  {
   "cell_type": "markdown",
   "metadata": {},
   "source": [
    "Given that 173 users did not churn and only 52 churned, the dataset contains an (although not too extreme) imbalance."
   ]
  },
  {
   "cell_type": "code",
   "execution_count": 30,
   "metadata": {},
   "outputs": [
    {
     "name": "stdout",
     "output_type": "stream",
     "text": [
      "+-----+------+-----+\n",
      "|Churn|gender|count|\n",
      "+-----+------+-----+\n",
      "|    0|     M|   89|\n",
      "|    0|     F|   84|\n",
      "|    1|     F|   20|\n",
      "|    1|     M|   32|\n",
      "+-----+------+-----+\n",
      "\n"
     ]
    }
   ],
   "source": [
    "# Look at churn by gender\n",
    "df.dropDuplicates([\"userId\", \"gender\"]).groupby([\"Churn\", \"gender\"]).count().sort(\"Churn\").show()"
   ]
  },
  {
   "cell_type": "markdown",
   "metadata": {},
   "source": [
    "The churn rate in males is slightly higher (~26%) than in females (~19%), although it may or may not a statistically significant difference."
   ]
  },
  {
   "cell_type": "code",
   "execution_count": 31,
   "metadata": {},
   "outputs": [
    {
     "name": "stdout",
     "output_type": "stream",
     "text": [
      "+-----+-----+-----+\n",
      "|Churn|level|count|\n",
      "+-----+-----+-----+\n",
      "|    0| free|  133|\n",
      "|    0| paid|   40|\n",
      "|    1| paid|    8|\n",
      "|    1| free|   44|\n",
      "+-----+-----+-----+\n",
      "\n"
     ]
    }
   ],
   "source": [
    "# Look at churn by level\n",
    "df.dropDuplicates([\"userId\"]).groupby([\"Churn\", \"level\"]).count().sort(\"Churn\").show()"
   ]
  },
  {
   "cell_type": "markdown",
   "metadata": {},
   "source": [
    "The churn rate in the free level is slightly higher (~25%) than in the paid level (~17%), although it may or may not a statistically significant difference."
   ]
  },
  {
   "cell_type": "code",
   "execution_count": 32,
   "metadata": {},
   "outputs": [],
   "source": [
    "def get_props(data):\n",
    "    \"\"\"\n",
    "    Function to normalize the data\n",
    "    :param data: pandas dataframe containing data\n",
    "    return: pandas dataframe with the normalized column\n",
    "    \"\"\"\n",
    "    grouped_data = data.set_index(list(data.columns[:2]))\n",
    "    unstacked_grouped_data = grouped_data.unstack('Churn').fillna(0)\n",
    "    out = pd.DataFrame(((unstacked_grouped_data - unstacked_grouped_data.min()) / \n",
    "                       (unstacked_grouped_data.max() - unstacked_grouped_data.min())).stack()).reset_index()\n",
    "    out = out.rename(columns={out.columns[-1]:'prop_col'})\n",
    "    return out"
   ]
  },
  {
   "cell_type": "code",
   "execution_count": 33,
   "metadata": {},
   "outputs": [
    {
     "data": {
      "image/png": "[encoded data removed]",
      "text/plain": [
       "<matplotlib.figure.Figure at 0x7fd6b51b88d0>"
      ]
     },
     "metadata": {
      "needs_background": "light"
     },
     "output_type": "display_data"
    }
   ],
   "source": [
    "# Plot proportion of users that churned / not churned by state\n",
    "state_data = get_props(df.dropDuplicates([\"userId\"]).groupby([\"state\",\"Churn\"]).count().sort(\"state\").toPandas())\n",
    "fig, ax = plt.subplots(figsize=(15,20))\n",
    "sns.barplot(x=\"prop_col\", y=\"state\", hue=\"Churn\", data=state_data, ax=ax);"
   ]
  },
  {
   "cell_type": "markdown",
   "metadata": {},
   "source": [
    "We see that the proportion of those who churned is very close in CA, but fairly different in NY-NJ-PA."
   ]
  },
  {
   "cell_type": "code",
   "execution_count": 34,
   "metadata": {},
   "outputs": [
    {
     "data": {
      "image/png": "[encoded data removed]",
      "text/plain": [
       "<matplotlib.figure.Figure at 0x7fd6adb32c50>"
      ]
     },
     "metadata": {
      "needs_background": "light"
     },
     "output_type": "display_data"
    }
   ],
   "source": [
    "# Plot proportion of users that churned / not churned by page\n",
    "page_data = get_props(df.groupby([\"page\",\"Churn\"]).count().sort(\"page\").toPandas())\n",
    "fig, ax = plt.subplots(figsize=(10,12))\n",
    "sns.barplot(x=\"prop_col\", y=\"page\", hue=\"Churn\", data=page_data, ax=ax);"
   ]
  },
  {
   "cell_type": "markdown",
   "metadata": {},
   "source": [
    "The biggest impact on whether a customer churned or not is primarily determined by Add Friend, Add to Playlist, Home, NextSrong, Roll Advert, Thumbs Down and Thumps Up."
   ]
  },
  {
   "cell_type": "markdown",
   "metadata": {},
   "source": [
    "# Feature Engineering\n",
    "Once you've familiarized yourself with the data, build out the features you find promising to train your model on. To work with the full dataset, you can follow the following steps.\n",
    "- Write a script to extract the necessary features from the smaller subset of data\n",
    "- Ensure that your script is scalable, using the best practices discussed in Lesson 3\n",
    "- Try your script on the full data set, debugging your script if necessary\n",
    "\n",
    "If you are working in the classroom workspace, you can just extract features based on the small subset of data contained here. Be sure to transfer over this work to the larger dataset when you work on your Spark cluster."
   ]
  },
  {
   "cell_type": "code",
   "execution_count": 6,
   "metadata": {},
   "outputs": [],
   "source": [
    "def feature_engineering(df):\n",
    "    \"\"\"\n",
    "    Function to conduct feature engineering on the dataset\n",
    "    :param df: dataframe containing the clean data\n",
    "    return: dataframe with feature engineering completed\n",
    "    \"\"\"\n",
    "    # Remove special characters from string fields\n",
    "    for field in df.schema.fields:\n",
    "        if field.dataType==StringType():\n",
    "            df = df.withColumn(field.name, regexp_replace(field.name, '[^a-zA-Z0-9\\,\\-]', ''))\n",
    "\n",
    "    # Length of time in days between registration and latest activity\n",
    "    latest_activity_df = df.groupby('userId').agg(fmax('ts').alias('latest_activity'))\n",
    "    df = latest_activity_df.join(df, on='userId')\n",
    "    df = df.withColumn('days_active', ((col('latest_activity')-col('registration'))/86400000).cast(IntegerType()))\n",
    "    \n",
    "    # Latest level\n",
    "    latest_level_df = df.orderBy('ts', ascending=False).groupby('userId').agg(first('level').alias('latest_level'))\n",
    "    df = df.drop('level')\n",
    "    df = df.join(latest_level_df, on='userId')\n",
    "    \n",
    "    # Average length\n",
    "    average_length_df = df.groupby('userId').avg('length').withColumnRenamed('avg(length)', 'length')\n",
    "    df = df.drop('length')\n",
    "    df = df.join(average_length_df, on='userId')\n",
    "    \n",
    "    # Number of unique songs\n",
    "    unique_songs_df = df.filter(df.page=='NextSong').select([\"userId\",\"song\"]).\\\n",
    "                            dropDuplicates([\"userId\",\"song\"]).groupby([\"userId\"]).count()\n",
    "    unique_songs_df = unique_songs_df.withColumnRenamed('count','unique_songs')\n",
    "    df = df.join(unique_songs_df, on='userId')\n",
    "    \n",
    "    # Total number of songs\n",
    "    total_songs_df = df.filter(df.page=='NextSong').select([\"userId\",\"song\"]).groupby([\"userId\"]).count()\n",
    "    total_songs_df = total_songs_df.withColumnRenamed('count','total_songs')\n",
    "    df = df.join(total_songs_df, on='userId')\n",
    "\n",
    "    # Select only those features going into the model\n",
    "    cols_to_keep = ['userId','days_active','length','unique_songs','total_songs','gender','latest_level','Churn']\n",
    "    df_shortened = df.select(cols_to_keep)\n",
    "    df_shortened = df_shortened.drop_duplicates()\n",
    "    df_shortened = df_shortened.drop('userId')\n",
    "    \n",
    "\n",
    "    # Rename Churn to label\n",
    "    df_shortened = df_shortened.withColumnRenamed('Churn','label')\n",
    "    \n",
    "    return df_shortened\n",
    "\n",
    "# Run feature engineering function\n",
    "df_shortened = feature_engineering(df)"
   ]
  },
  {
   "cell_type": "code",
   "execution_count": 7,
   "metadata": {},
   "outputs": [],
   "source": [
    "# Convert gender to numerical feature\n",
    "gender_indexer = StringIndexer(inputCol=\"gender\", outputCol=\"gender_ohe\")\n",
    "\n",
    "# Convert latest level to numerical feature\n",
    "latest_level_indexer = StringIndexer(inputCol=\"latest_level\", outputCol=\"latest_level_ohe\")\n",
    "\n",
    "# Create feature vector\n",
    "feature_list = ['days_active','length','unique_songs','total_songs','gender_ohe','latest_level_ohe']\n",
    "vector = VectorAssembler(inputCols=feature_list, outputCol='features')"
   ]
  },
  {
   "cell_type": "markdown",
   "metadata": {},
   "source": [
    "# Modeling\n",
    "Split the full dataset into train, test, and validation sets. Test out several of the machine learning methods you learned. Evaluate the accuracy of the various models, tuning parameters as necessary. Determine your winning model based on test accuracy and report results on the validation set. Since the churned users are a fairly small subset, I suggest using F1 score as the metric to optimize."
   ]
  },
  {
   "cell_type": "code",
   "execution_count": 8,
   "metadata": {},
   "outputs": [],
   "source": [
    "# Split data into train and test sets\n",
    "train, test = df_shortened.randomSplit([0.7, 0.3], seed=42)\n",
    "\n",
    "# Initialize models to test\n",
    "clf_lr = LogisticRegression(maxIter=50)\n",
    "clf_dt = DecisionTreeClassifier(seed=42)\n",
    "clf_rf = RandomForestClassifier(seed=42)\n",
    "\n",
    "# Set up evaluator\n",
    "evaluator = MulticlassClassificationEvaluator(predictionCol=\"prediction\")"
   ]
  },
  {
   "cell_type": "code",
   "execution_count": 9,
   "metadata": {},
   "outputs": [
    {
     "name": "stdout",
     "output_type": "stream",
     "text": [
      "model, f1_score:  LogisticRegression_cf9646acf36e 0.761817812943802\n",
      "model, f1_score:  DecisionTreeClassifier_8e3cd16ebaa4 0.8009824277105384\n",
      "model, f1_score:  RandomForestClassifier_7968fdf12d7f 0.7990395657166719\n"
     ]
    }
   ],
   "source": [
    "# Baseline model\n",
    "for model in [clf_lr, clf_dt, clf_rf]:\n",
    "    pipeline = Pipeline(stages=[gender_indexer, latest_level_indexer, vector, model])\n",
    "    fit_model = pipeline.fit(train)\n",
    "    preds = fit_model.transform(test)\n",
    "    f1_score = evaluator.evaluate(preds.select('label','prediction'),{evaluator.metricName: 'f1'})\n",
    "    print('model, f1_score: ', model, f1_score)"
   ]
  },
  {
   "cell_type": "code",
   "execution_count": 25,
   "metadata": {},
   "outputs": [],
   "source": [
    "# Save model\n",
    "pipeline = Pipeline(stages=[gender_indexer, latest_level_indexer, vector, clf_dt])\n",
    "fit_model = pipeline.fit(train)\n",
    "fit_model.save('dtmodel')"
   ]
  },
  {
   "cell_type": "markdown",
   "metadata": {},
   "source": [
    "The best performing model is the Decision Tree Classifier. Below we run parameter tuning on the Decision Tree Classifier. "
   ]
  },
  {
   "cell_type": "code",
   "execution_count": 9,
   "metadata": {},
   "outputs": [
    {
     "name": "stdout",
     "output_type": "stream",
     "text": [
      "best f1_score:  0.7332635797761975\n"
     ]
    }
   ],
   "source": [
    "# Create ParamGrid for Cross Validation\n",
    "dtparamGrid = (ParamGridBuilder()\n",
    "             .addGrid(clf_dt.maxDepth, [2,15,30])\n",
    "             .addGrid(clf_dt.maxBins, [10,50,100])\n",
    "             .build())\n",
    "\n",
    "# Create 5-fold CrossValidator\n",
    "dtcv = CrossValidator(estimator = clf_dt,\n",
    "                      estimatorParamMaps = dtparamGrid,\n",
    "                      evaluator = evaluator,\n",
    "                      numFolds = 3)\n",
    "\n",
    "# Create pipeline\n",
    "pipeline = Pipeline(stages=[gender_indexer, latest_level_indexer, vector, dtcv])\n",
    "\n",
    "# Run cross validations\n",
    "dtcvModel = pipeline.fit(train)\n",
    "\n",
    "# Use test set to evaluate model performance\n",
    "dtpreds = dtcvModel.transform(test)\n",
    "\n",
    "# cvModel uses the best model found from the Cross Validation above\n",
    "\n",
    "# Evaluate best model\n",
    "best_f1_score = evaluator.evaluate(dtpreds.select('label','prediction'),{evaluator.metricName: 'f1'})\n",
    "print('best f1_score: ', best_f1_score)"
   ]
  },
  {
   "cell_type": "markdown",
   "metadata": {},
   "source": [
    "It turns out that the baseline model with default parameters is performing better than the tuned model. This could potentially be due to the fact that we are overfitting to the training set with the tuned parameters, or not exploring a large enough parameter space, thus decreasing the performance of the model on unseen data."
   ]
  },
  {
   "cell_type": "markdown",
   "metadata": {},
   "source": [
    "# Final Steps\n",
    "Clean up your code, adding comments and renaming variables to make the code easier to read and maintain. Refer to the Spark Project Overview page and Data Scientist Capstone Project Rubric to make sure you are including all components of the capstone project and meet all expectations. Remember, this includes thorough documentation in a README file in a Github repository, as well as a web app or blog post."
   ]
  }
 ],
 "metadata": {
  "kernelspec": {
   "display_name": "Python 3",
   "language": "python",
   "name": "python3"
  },
  "language_info": {
   "codemirror_mode": {
    "name": "ipython",
    "version": 3
   },
   "file_extension": ".py",
   "mimetype": "text/x-python",
   "name": "python",
   "nbconvert_exporter": "python",
   "pygments_lexer": "ipython3",
   "version": "3.6.3"
  }
 },
 "nbformat": 4,
 "nbformat_minor": 2
}
